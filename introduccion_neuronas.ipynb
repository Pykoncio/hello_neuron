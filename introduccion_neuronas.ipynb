{
 "cells": [
  {
   "cell_type": "markdown",
   "metadata": {},
   "source": [
    "## Una neurona con una entrada y un peso.\n",
    "\n",
    "Establecemos un peso de 0.5 y la entrada la pedimos al usuario."
   ]
  },
  {
   "cell_type": "code",
   "execution_count": null,
   "metadata": {},
   "outputs": [
    {
     "name": "stdout",
     "output_type": "stream",
     "text": [
      "La salida de la neurona es: 3.9\n"
     ]
    }
   ],
   "source": [
    "w = 0.5\n",
    "x = float(input(\"Introduzca un valor a la entrada: \"))\n",
    "y = x * w\n",
    "print(f\"La salida de la neurona es: {y}\")"
   ]
  },
  {
   "cell_type": "markdown",
   "metadata": {},
   "source": [
    "## Una neurona con dos entradas"
   ]
  },
  {
   "cell_type": "markdown",
   "metadata": {},
   "source": [
    "Establecemos pesos de 1.5 y 2.5 y pedimos las entradas al usuario."
   ]
  },
  {
   "cell_type": "code",
   "execution_count": 8,
   "metadata": {},
   "outputs": [
    {
     "name": "stdout",
     "output_type": "stream",
     "text": [
      "La salida de la neurona es: 15.75\n"
     ]
    }
   ],
   "source": [
    "w0, w1 = 1.5, 2.5\n",
    "\n",
    "x0, x1 = map(float, input(\"Introduzca el valor de las entradas separadas por espacios: \").split())\n",
    "\n",
    "y = w0 * x0 + w1 * x1\n",
    "\n",
    "print(f\"La salida de la neurona es: {y}\")"
   ]
  },
  {
   "cell_type": "markdown",
   "metadata": {},
   "source": [
    "## Una neurona con tres entradas y bias (sesgo)"
   ]
  },
  {
   "cell_type": "markdown",
   "metadata": {},
   "source": [
    "Establecemos pesos de 1, 2, 3 y un bias de 10."
   ]
  },
  {
   "cell_type": "code",
   "execution_count": 9,
   "metadata": {},
   "outputs": [
    {
     "name": "stdout",
     "output_type": "stream",
     "text": [
      "La salida de la neurona es: 17.0\n"
     ]
    }
   ],
   "source": [
    "w0, w1, w2 = 1, 2, 3\n",
    "b = 10\n",
    "\n",
    "x0, x1, x2 = map(float, input(\"Introduzca el valor de las tres entradas separadas por espacios: \").split())\n",
    "\n",
    "y = w0 * x0 + w1 * x1 + w2 * x2 + b\n",
    "\n",
    "print(f\"La salida de la neurona es: {y}\")"
   ]
  },
  {
   "cell_type": "code",
   "execution_count": null,
   "metadata": {},
   "outputs": [],
   "source": []
  }
 ],
 "metadata": {
  "kernelspec": {
   "display_name": "Python 3",
   "language": "python",
   "name": "python3"
  },
  "language_info": {
   "codemirror_mode": {
    "name": "ipython",
    "version": 3
   },
   "file_extension": ".py",
   "mimetype": "text/x-python",
   "name": "python",
   "nbconvert_exporter": "python",
   "pygments_lexer": "ipython3",
   "version": "3.12.7"
  }
 },
 "nbformat": 4,
 "nbformat_minor": 2
}
